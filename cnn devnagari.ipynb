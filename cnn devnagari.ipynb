{
 "cells": [
  {
   "cell_type": "code",
   "execution_count": 1,
   "id": "c7a3d2a2",
   "metadata": {},
   "outputs": [],
   "source": [
    "import pandas as pd\n",
    "import numpy as np\n",
    "import matplotlib.pyplot as plt\n",
    "import seaborn as sns\n",
    "import tensorflow as tf\n",
    "import keras\n",
    "from keras.models import Sequential\n",
    "from keras.layers import Conv2D,MaxPool2D,Flatten,Dense,Dropout\n",
    "from keras.utils.np_utils import to_categorical\n",
    "import os\n",
    "import cv2 #computer vision\n",
    "import matplotlib.pyplot as plt\n"
   ]
  },
  {
   "cell_type": "markdown",
   "id": "de883653",
   "metadata": {},
   "source": [
    "## train data "
   ]
  },
  {
   "cell_type": "code",
   "execution_count": 59,
   "id": "41f10aca",
   "metadata": {},
   "outputs": [],
   "source": [
    "path1=\"D:\\data set\\cnn\\CNN dataset\\DevanagariHandwrittenCharacterDataset\\Train\"\n",
    "cate_1=['character_1_ka' , \"character_2_kha\", \"character_3_ga\" , \"character_4_gha\" , \"character_5_kna\" , \"character_6_cha\" , \"character_7_chha\" ,\n",
    "     \"character_8_ja\" ,\"character_9_jha\" , \"character_10_yna\", \"character_11_taamatar\" ,\"character_12_thaa\" , 'character_13_daa','character_14_dhaa','character_15_adna','character_16_tabala',\n",
    "     'character_17_tha','character_18_da','character_19_dha','character_20_na','character_21_pa','character_22_pha',\n",
    "     'character_23_ba','character_24_bha','character_25_ma','character_26_yaw','character_27_ra',\n",
    "     'character_28_la','character_29_waw','character_30_motosaw','character_31_petchiryakha','character_32_patalosaw',\n",
    "     'character_33_ha','character_34_chhya','character_35_tra','character_36_gya','digit_0','digit_1','digit_2','digit_3','digit_4','digit_5',\n",
    "     'digit_6','digit_7','digit_8','digit_9']"
   ]
  },
  {
   "cell_type": "code",
   "execution_count": 60,
   "id": "a72fd127",
   "metadata": {},
   "outputs": [],
   "source": [
    "image_size_1=50\n",
    "input_image_train=[]\n",
    "for i in cate_1:\n",
    "    folders_1=os.path.join(path1,i)\n",
    "    label_1=cate_1.index(i)\n",
    "    for image_1 in os.listdir(folders_1):\n",
    "        image_path_1=os.path.join(folders_1,image_1)\n",
    "        image_array_1=cv2.imread(image_path_1)\n",
    "        image_array_1=cv2.resize(image_array_1,(image_size_1,image_size_1))\n",
    "        input_image_train.append([image_array_1,label_1])\n",
    "         "
   ]
  },
  {
   "cell_type": "code",
   "execution_count": 61,
   "id": "107be5be",
   "metadata": {},
   "outputs": [
    {
     "data": {
      "text/plain": [
       "78200"
      ]
     },
     "execution_count": 61,
     "metadata": {},
     "output_type": "execute_result"
    }
   ],
   "source": [
    "len(input_image_train)"
   ]
  },
  {
   "cell_type": "code",
   "execution_count": 62,
   "id": "485efc19",
   "metadata": {},
   "outputs": [],
   "source": [
    "np.random.shuffle(input_image_train)"
   ]
  },
  {
   "cell_type": "code",
   "execution_count": 63,
   "id": "5828a01d",
   "metadata": {},
   "outputs": [],
   "source": [
    "#input_image_train=input_image_train[0:50000]"
   ]
  },
  {
   "cell_type": "code",
   "execution_count": 64,
   "id": "c8a02070",
   "metadata": {},
   "outputs": [],
   "source": [
    "train_X=[]\n",
    "train_Y=[]\n",
    "\n",
    "for X_values,labels in input_image_train:\n",
    "    train_X.append(X_values)\n",
    "    train_Y.append(labels)\n",
    "    "
   ]
  },
  {
   "cell_type": "code",
   "execution_count": 65,
   "id": "f59fcb3d",
   "metadata": {},
   "outputs": [
    {
     "data": {
      "text/plain": [
       "<matplotlib.image.AxesImage at 0x226e1098d60>"
      ]
     },
     "execution_count": 65,
     "metadata": {},
     "output_type": "execute_result"
    },
    {
     "data": {
      "image/png": "[encoded data removed]",
      "text/plain": [
       "<Figure size 432x288 with 1 Axes>"
      ]
     },
     "metadata": {
      "needs_background": "light"
     },
     "output_type": "display_data"
    }
   ],
   "source": [
    "plt.imshow(train_X[90])"
   ]
  },
  {
   "cell_type": "code",
   "execution_count": 66,
   "id": "e68b224f",
   "metadata": {},
   "outputs": [
    {
     "data": {
      "text/plain": [
       "78200"
      ]
     },
     "execution_count": 66,
     "metadata": {},
     "output_type": "execute_result"
    }
   ],
   "source": [
    "len(train_X)"
   ]
  },
  {
   "cell_type": "code",
   "execution_count": 67,
   "id": "a7ab33c6",
   "metadata": {},
   "outputs": [],
   "source": [
    "train_X=np.array(train_X)\n",
    "train_Y=np.array(train_Y)"
   ]
  },
  {
   "cell_type": "code",
   "execution_count": 68,
   "id": "71bd063d",
   "metadata": {},
   "outputs": [
    {
     "data": {
      "text/plain": [
       "array([43, 37,  4, ..., 40,  0, 35])"
      ]
     },
     "execution_count": 68,
     "metadata": {},
     "output_type": "execute_result"
    }
   ],
   "source": [
    "train_Y"
   ]
  },
  {
   "cell_type": "code",
   "execution_count": 69,
   "id": "5519d8eb",
   "metadata": {},
   "outputs": [],
   "source": [
    "train_X=train_X/255\n",
    "#train_X"
   ]
  },
  {
   "cell_type": "markdown",
   "id": "2f5dda17",
   "metadata": {},
   "source": [
    "## test data cleaning"
   ]
  },
  {
   "cell_type": "code",
   "execution_count": 70,
   "id": "3c7cd79c",
   "metadata": {},
   "outputs": [],
   "source": [
    "path2=\"D:\\data set\\cnn\\CNN dataset\\DevanagariHandwrittenCharacterDataset\\Test\"\n",
    "cate_2=['character_1_ka' , \"character_2_kha\", \"character_3_ga\" , \"character_4_gha\" , \"character_5_kna\" , \"character_6_cha\" , \"character_7_chha\" ,\n",
    "     \"character_8_ja\" ,\"character_9_jha\" , \"character_10_yna\", \"character_11_taamatar\" ,\"character_12_thaa\" , 'character_13_daa','character_14_dhaa','character_15_adna','character_16_tabala',\n",
    "     'character_17_tha','character_18_da','character_19_dha','character_20_na','character_21_pa','character_22_pha',\n",
    "     'character_23_ba','character_24_bha','character_25_ma','character_26_yaw','character_27_ra',\n",
    "     'character_28_la','character_29_waw','character_30_motosaw','character_31_petchiryakha','character_32_patalosaw',\n",
    "     'character_33_ha','character_34_chhya','character_35_tra','character_36_gya','digit_0','digit_1','digit_2','digit_3','digit_4','digit_5',\n",
    "     'digit_6','digit_7','digit_8','digit_9']"
   ]
  },
  {
   "cell_type": "code",
   "execution_count": 71,
   "id": "04d23fbf",
   "metadata": {},
   "outputs": [],
   "source": [
    "image_size_2=50\n",
    "input_image_test=[]\n",
    "for i in cate_2:\n",
    "    folders_2=os.path.join(path2,i)\n",
    "    label_2=cate_2.index(i)\n",
    "    for image_2 in os.listdir(folders_2):\n",
    "        image_path_2=os.path.join(folders_2,image_2)\n",
    "        image_array_2=cv2.imread(image_path_2)\n",
    "        image_array_2=cv2.resize(image_array_2,(image_size_2,image_size_2))\n",
    "        input_image_test.append([image_array_2,label_2])\n",
    "         "
   ]
  },
  {
   "cell_type": "code",
   "execution_count": 72,
   "id": "9a264f09",
   "metadata": {},
   "outputs": [
    {
     "data": {
      "text/plain": [
       "13800"
      ]
     },
     "execution_count": 72,
     "metadata": {},
     "output_type": "execute_result"
    }
   ],
   "source": [
    "len(input_image_test)"
   ]
  },
  {
   "cell_type": "code",
   "execution_count": 73,
   "id": "12f5469c",
   "metadata": {},
   "outputs": [],
   "source": [
    "#input_image_test=input_image_test[0:8824]"
   ]
  },
  {
   "cell_type": "code",
   "execution_count": 74,
   "id": "2bfd754b",
   "metadata": {},
   "outputs": [],
   "source": [
    "np.random.shuffle(input_image_test)"
   ]
  },
  {
   "cell_type": "code",
   "execution_count": 75,
   "id": "53b4bb37",
   "metadata": {},
   "outputs": [],
   "source": [
    "test_X=[]\n",
    "test_Y=[]\n",
    "\n",
    "for X_values_1,labels_1 in input_image_test:\n",
    "    test_X.append(X_values_1)\n",
    "    test_Y.append(labels_1)\n",
    "    "
   ]
  },
  {
   "cell_type": "code",
   "execution_count": 76,
   "id": "885fa635",
   "metadata": {},
   "outputs": [
    {
     "data": {
      "text/plain": [
       "<matplotlib.image.AxesImage at 0x226df5e5fd0>"
      ]
     },
     "execution_count": 76,
     "metadata": {},
     "output_type": "execute_result"
    },
    {
     "data": {
      "image/png": "[encoded data removed]",
      "text/plain": [
       "<Figure size 432x288 with 1 Axes>"
      ]
     },
     "metadata": {
      "needs_background": "light"
     },
     "output_type": "display_data"
    }
   ],
   "source": [
    "plt.imshow(test_X[95])"
   ]
  },
  {
   "cell_type": "code",
   "execution_count": 77,
   "id": "ef9bb79f",
   "metadata": {},
   "outputs": [
    {
     "data": {
      "text/plain": [
       "13800"
      ]
     },
     "execution_count": 77,
     "metadata": {},
     "output_type": "execute_result"
    }
   ],
   "source": [
    "len(test_X)"
   ]
  },
  {
   "cell_type": "code",
   "execution_count": 78,
   "id": "0c906b06",
   "metadata": {},
   "outputs": [],
   "source": [
    "test_X=np.array(test_X)\n",
    "test_Y=np.array(test_Y)"
   ]
  },
  {
   "cell_type": "code",
   "execution_count": 79,
   "id": "63c96244",
   "metadata": {},
   "outputs": [],
   "source": [
    "test_X=test_X/255"
   ]
  },
  {
   "cell_type": "markdown",
   "id": "c02b3936",
   "metadata": {},
   "source": [
    "### model building"
   ]
  },
  {
   "cell_type": "code",
   "execution_count": 80,
   "id": "757c6a68",
   "metadata": {},
   "outputs": [],
   "source": [
    "from keras.models import Sequential\n",
    "from keras.layers import Conv2D,MaxPool2D,Flatten,Dense,Dropout\n",
    "from keras.utils.np_utils import to_categorical\n"
   ]
  },
  {
   "cell_type": "code",
   "execution_count": 81,
   "id": "0ef5cf73",
   "metadata": {},
   "outputs": [],
   "source": [
    "model=Sequential()\n",
    "\n",
    "model.add(Conv2D(filters=64,kernel_size=(5,5),activation='relu'))\n",
    "model.add(MaxPool2D(pool_size=(2,2)))\n",
    "\n",
    "model.add(Conv2D(filters=64,kernel_size=(5,5),activation='relu'))\n",
    "model.add(MaxPool2D(pool_size=(2,2)))\n",
    "\n",
    "model.add(Flatten())\n",
    "\n",
    "model.add(Dense(128,activation='relu',input_shape=train_X.shape[1:]))\n",
    "model.add(Dropout(0.20))\n",
    "\n",
    "model.add(Dense(46,activation='softmax'))\n",
    "\n",
    "model.compile(optimizer='adam',loss='sparse_categorical_crossentropy',metrics=['accuracy'])"
   ]
  },
  {
   "cell_type": "code",
   "execution_count": 82,
   "id": "35aa5a37",
   "metadata": {},
   "outputs": [
    {
     "name": "stdout",
     "output_type": "stream",
     "text": [
      "Epoch 1/10\n",
      "251/251 [==============================] - 188s 745ms/step - loss: 0.9143 - accuracy: 0.7465 - val_loss: 0.2258 - val_accuracy: 0.9327\n",
      "Epoch 2/10\n",
      "251/251 [==============================] - 189s 754ms/step - loss: 0.2419 - accuracy: 0.9264 - val_loss: 0.1430 - val_accuracy: 0.9568\n",
      "Epoch 3/10\n",
      "251/251 [==============================] - 192s 764ms/step - loss: 0.1471 - accuracy: 0.9542 - val_loss: 0.1116 - val_accuracy: 0.9662\n",
      "Epoch 4/10\n",
      "251/251 [==============================] - 199s 791ms/step - loss: 0.1024 - accuracy: 0.9669 - val_loss: 0.0996 - val_accuracy: 0.9714\n",
      "Epoch 5/10\n",
      "251/251 [==============================] - 196s 780ms/step - loss: 0.0794 - accuracy: 0.9741 - val_loss: 0.0936 - val_accuracy: 0.9724\n",
      "Epoch 6/10\n",
      "251/251 [==============================] - 196s 781ms/step - loss: 0.0610 - accuracy: 0.9795 - val_loss: 0.0900 - val_accuracy: 0.9746\n",
      "Epoch 7/10\n",
      "251/251 [==============================] - 186s 743ms/step - loss: 0.0517 - accuracy: 0.9828 - val_loss: 0.0949 - val_accuracy: 0.9743\n",
      "Epoch 8/10\n",
      "251/251 [==============================] - 187s 745ms/step - loss: 0.0439 - accuracy: 0.9857 - val_loss: 0.1014 - val_accuracy: 0.9728\n",
      "Epoch 9/10\n",
      "251/251 [==============================] - 193s 770ms/step - loss: 0.0393 - accuracy: 0.9867 - val_loss: 0.0952 - val_accuracy: 0.9766\n",
      "Epoch 10/10\n",
      "251/251 [==============================] - 192s 766ms/step - loss: 0.0376 - accuracy: 0.9872 - val_loss: 0.0896 - val_accuracy: 0.9776\n"
     ]
    },
    {
     "data": {
      "text/plain": [
       "<keras.callbacks.History at 0x226df59c8b0>"
      ]
     },
     "execution_count": 82,
     "metadata": {},
     "output_type": "execute_result"
    }
   ],
   "source": [
    "model.fit(train_X,train_Y,epochs=10 ,batch_size=250,validation_split=.20)"
   ]
  },
  {
   "cell_type": "code",
   "execution_count": 83,
   "id": "bc5a472b",
   "metadata": {},
   "outputs": [
    {
     "data": {
      "text/plain": [
       "78200"
      ]
     },
     "execution_count": 83,
     "metadata": {},
     "output_type": "execute_result"
    }
   ],
   "source": [
    "len(train_X)"
   ]
  },
  {
   "cell_type": "code",
   "execution_count": 84,
   "id": "3c1c308b",
   "metadata": {},
   "outputs": [
    {
     "data": {
      "text/plain": [
       "78200"
      ]
     },
     "execution_count": 84,
     "metadata": {},
     "output_type": "execute_result"
    }
   ],
   "source": [
    "len(train_Y)"
   ]
  },
  {
   "cell_type": "code",
   "execution_count": 85,
   "id": "8e19e375",
   "metadata": {},
   "outputs": [],
   "source": [
    "from sklearn.metrics import *"
   ]
  },
  {
   "cell_type": "code",
   "execution_count": 86,
   "id": "849feec9",
   "metadata": {},
   "outputs": [
    {
     "data": {
      "text/plain": [
       "array([43, 37,  4, ..., 40,  0, 35], dtype=int64)"
      ]
     },
     "execution_count": 86,
     "metadata": {},
     "output_type": "execute_result"
    }
   ],
   "source": [
    "pred_train=model.predict(train_X)\n",
    "pred_train=np.argmax(pred_train , axis = 1)\n",
    "pred_train"
   ]
  },
  {
   "cell_type": "code",
   "execution_count": 87,
   "id": "4c0f674e",
   "metadata": {},
   "outputs": [
    {
     "data": {
      "text/plain": [
       "array([[1692,    0,    0, ...,    0,    0,    0],\n",
       "       [   0, 1686,    0, ...,    0,    0,    0],\n",
       "       [   0,    0, 1696, ...,    0,    0,    0],\n",
       "       ...,\n",
       "       [   0,    0,    0, ..., 1698,    0,    0],\n",
       "       [   0,    0,    0, ...,    0, 1697,    0],\n",
       "       [   0,    0,    0, ...,    0,    0, 1697]], dtype=int64)"
      ]
     },
     "execution_count": 87,
     "metadata": {},
     "output_type": "execute_result"
    }
   ],
   "source": [
    "tab_train=confusion_matrix(train_Y,pred_train)\n",
    "tab_train"
   ]
  },
  {
   "cell_type": "code",
   "execution_count": 95,
   "id": "667d973c",
   "metadata": {},
   "outputs": [
    {
     "data": {
      "text/plain": [
       "99.43478260869566"
      ]
     },
     "execution_count": 95,
     "metadata": {},
     "output_type": "execute_result"
    }
   ],
   "source": [
    "acc_train=accuracy_score(train_Y,pred_train)*100\n",
    "acc_train"
   ]
  },
  {
   "cell_type": "code",
   "execution_count": 89,
   "id": "46c5fe45",
   "metadata": {},
   "outputs": [
    {
     "data": {
      "text/plain": [
       "array([37, 10, 41, ..., 39, 15, 33], dtype=int64)"
      ]
     },
     "execution_count": 89,
     "metadata": {},
     "output_type": "execute_result"
    }
   ],
   "source": [
    "pred_test=model.predict(test_X)\n",
    "pred_test=np.argmax(pred_test , axis = 1)\n",
    "pred_test"
   ]
  },
  {
   "cell_type": "code",
   "execution_count": 90,
   "id": "79907004",
   "metadata": {},
   "outputs": [],
   "source": [
    "tab_test=confusion_matrix(test_Y,pred_test)"
   ]
  },
  {
   "cell_type": "code",
   "execution_count": 91,
   "id": "d72aae2e",
   "metadata": {},
   "outputs": [
    {
     "name": "stdout",
     "output_type": "stream",
     "text": [
      "[[298   0   0 ...   0   0   0]\n",
      " [  0 290   0 ...   0   0   0]\n",
      " [  0   0 294 ...   0   0   0]\n",
      " ...\n",
      " [  0   0   0 ... 298   0   0]\n",
      " [  0   0   0 ...   0 298   0]\n",
      " [  0   0   0 ...   0   1 298]]\n"
     ]
    }
   ],
   "source": [
    "print(tab_test)"
   ]
  },
  {
   "cell_type": "code",
   "execution_count": 94,
   "id": "afbb80e3",
   "metadata": {},
   "outputs": [
    {
     "data": {
      "text/plain": [
       "97.76811594202898"
      ]
     },
     "execution_count": 94,
     "metadata": {},
     "output_type": "execute_result"
    }
   ],
   "source": [
    "acc_test=accuracy_score(test_Y,pred_test)*100\n",
    "acc_test"
   ]
  },
  {
   "cell_type": "code",
   "execution_count": 98,
   "id": "ed4b21b6",
   "metadata": {},
   "outputs": [],
   "source": [
    "from keras.models import load_model\n",
    "from keras.models import save"
   ]
  },
  {
   "cell_type": "code",
   "execution_count": 96,
   "id": "2b92fcbc",
   "metadata": {},
   "outputs": [],
   "source": [
    "model.save(\"devnagari.h5\")"
   ]
  },
  {
   "cell_type": "code",
   "execution_count": 106,
   "id": "d99c3cec",
   "metadata": {},
   "outputs": [],
   "source": [
    "dev_load=load_model('devnagari.h5')"
   ]
  },
  {
   "cell_type": "code",
   "execution_count": 107,
   "id": "4f5fb832",
   "metadata": {},
   "outputs": [],
   "source": [
    "t1=dev_load.predict(test_X)\n",
    "t1=np.argmax(t1,axis=1)"
   ]
  },
  {
   "cell_type": "code",
   "execution_count": 108,
   "id": "5bb27ab8",
   "metadata": {},
   "outputs": [
    {
     "data": {
      "text/plain": [
       "array([37, 10, 41, ..., 39, 15, 33], dtype=int64)"
      ]
     },
     "execution_count": 108,
     "metadata": {},
     "output_type": "execute_result"
    }
   ],
   "source": [
    "t1"
   ]
  },
  {
   "cell_type": "code",
   "execution_count": 109,
   "id": "2bddfa7b",
   "metadata": {},
   "outputs": [
    {
     "data": {
      "text/plain": [
       "97.76811594202898"
      ]
     },
     "execution_count": 109,
     "metadata": {},
     "output_type": "execute_result"
    }
   ],
   "source": [
    "acc_test_load=accuracy_score(test_Y,pred_test)*100\n",
    "acc_test_load"
   ]
  },
  {
   "cell_type": "code",
   "execution_count": 110,
   "id": "98fc08a6",
   "metadata": {},
   "outputs": [],
   "source": [
    "tab_test_load=confusion_matrix(test_Y,pred_test)"
   ]
  },
  {
   "cell_type": "code",
   "execution_count": 111,
   "id": "ef8c1b78",
   "metadata": {},
   "outputs": [
    {
     "data": {
      "text/plain": [
       "array([[298,   0,   0, ...,   0,   0,   0],\n",
       "       [  0, 290,   0, ...,   0,   0,   0],\n",
       "       [  0,   0, 294, ...,   0,   0,   0],\n",
       "       ...,\n",
       "       [  0,   0,   0, ..., 298,   0,   0],\n",
       "       [  0,   0,   0, ...,   0, 298,   0],\n",
       "       [  0,   0,   0, ...,   0,   1, 298]], dtype=int64)"
      ]
     },
     "execution_count": 111,
     "metadata": {},
     "output_type": "execute_result"
    }
   ],
   "source": [
    "tab_test_load"
   ]
  },
  {
   "cell_type": "code",
   "execution_count": null,
   "id": "ad6c5a25",
   "metadata": {},
   "outputs": [],
   "source": []
  }
 ],
 "metadata": {
  "kernelspec": {
   "display_name": "Python 3",
   "language": "python",
   "name": "python3"
  },
  "language_info": {
   "codemirror_mode": {
    "name": "ipython",
    "version": 3
   },
   "file_extension": ".py",
   "mimetype": "text/x-python",
   "name": "python",
   "nbconvert_exporter": "python",
   "pygments_lexer": "ipython3",
   "version": "3.8.8"
  }
 },
 "nbformat": 4,
 "nbformat_minor": 5
}
