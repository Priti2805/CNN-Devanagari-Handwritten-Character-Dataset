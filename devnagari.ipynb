{
 "cells": [
  {
   "cell_type": "code",
   "execution_count": 8,
   "id": "d716b984",
   "metadata": {},
   "outputs": [],
   "source": [
    "import os\n",
    "import cv2 # computer vision library\n",
    "import matplotlib.pyplot as plt"
   ]
  },
  {
   "cell_type": "code",
   "execution_count": 9,
   "id": "d97ca4cc",
   "metadata": {},
   "outputs": [],
   "source": [
    "# path1= r\"E:\\DevanagariHandwrittenCharacterDataset\" \n",
    "# cate= ['Test' , 'Train']"
   ]
  },
  {
   "cell_type": "code",
   "execution_count": 19,
   "id": "51fe92d5",
   "metadata": {},
   "outputs": [],
   "source": [
    "path2= r\"E:\\DevanagariHandwrittenCharacterDataset\\Train\"\n",
    "cate=['character_1_ka' , \"character_2_kha\", \"character_3_ga\" , \"character_4_gha\" , \"character_5_kna\" , \"character_6_cha\" , \"character_7_chha\" ,\n",
    "     \"character_8_ja\" ,\"character_9_jha\" , \"character_10_yna\", \"character_11_taamatar\" ,\"character_12_thaa\" , 'character_13_daa','character_14_dhaa','character_15_adna','character_16_tabala',\n",
    "     'character_17_tha','character_18_da','character_19_dha','character_20_na','character_21_pa','character_22_pha',\n",
    "     'character_23_ba','character_24_bha','character_24_bha','character_25_ma','character_26_yaw','character_27_ra',\n",
    "     'character_28_la','character_29_waw','character_30_motosaw','character_31_petchiryakha','character_32_patalosaw',\n",
    "     'character_33_ha','character_34_chhya','character_35_tra','character_36_gya','digit_0','digit_1','digit_2','digit_3','digit_4','digit_5',\n",
    "     'digit_6','digit_7','digit_8','digit_9']"
   ]
  },
  {
   "cell_type": "code",
   "execution_count": 20,
   "id": "d60b8721",
   "metadata": {},
   "outputs": [
    {
     "data": {
      "image/png": "[encoded data removed]",
      "text/plain": [
       "<Figure size 432x288 with 1 Axes>"
      ]
     },
     "metadata": {
      "needs_background": "light"
     },
     "output_type": "display_data"
    }
   ],
   "source": [
    "for i in cate:\n",
    "    folders=os.path.join(path2 , i)\n",
    "    for image in os.listdir(folders):\n",
    "        image_path =os.path.join(folders,image)\n",
    "        image_array=cv2.imread(image_path)\n",
    "        plt.imshow(image_array)\n",
    "        break"
   ]
  },
  {
   "cell_type": "code",
   "execution_count": 18,
   "id": "c8c649cc",
   "metadata": {},
   "outputs": [],
   "source": [
    "# for i in cate:\n",
    "#     folders=os.path.join(path2 , i)\n",
    "#     for image in os.listdir(folders):\n",
    "#         image_path =os.path.join(folders,image)\n",
    "#         print(image_path)"
   ]
  },
  {
   "cell_type": "code",
   "execution_count": 21,
   "id": "14de5cce",
   "metadata": {},
   "outputs": [
    {
     "ename": "KeyboardInterrupt",
     "evalue": "",
     "output_type": "error",
     "traceback": [
      "\u001b[1;31m---------------------------------------------------------------------------\u001b[0m",
      "\u001b[1;31mKeyboardInterrupt\u001b[0m                         Traceback (most recent call last)",
      "\u001b[1;32m<ipython-input-21-2ab2e5fa58c7>\u001b[0m in \u001b[0;36m<module>\u001b[1;34m\u001b[0m\n\u001b[0;32m      6\u001b[0m     \u001b[1;32mfor\u001b[0m \u001b[0mimage\u001b[0m \u001b[1;32min\u001b[0m \u001b[0mos\u001b[0m\u001b[1;33m.\u001b[0m\u001b[0mlistdir\u001b[0m\u001b[1;33m(\u001b[0m\u001b[0mfolders\u001b[0m\u001b[1;33m)\u001b[0m\u001b[1;33m:\u001b[0m\u001b[1;33m\u001b[0m\u001b[1;33m\u001b[0m\u001b[0m\n\u001b[0;32m      7\u001b[0m         \u001b[0mimage_path\u001b[0m\u001b[1;33m=\u001b[0m \u001b[0mos\u001b[0m\u001b[1;33m.\u001b[0m\u001b[0mpath\u001b[0m\u001b[1;33m.\u001b[0m\u001b[0mjoin\u001b[0m\u001b[1;33m(\u001b[0m\u001b[0mfolders\u001b[0m \u001b[1;33m,\u001b[0m\u001b[0mimage\u001b[0m\u001b[1;33m)\u001b[0m\u001b[1;33m\u001b[0m\u001b[1;33m\u001b[0m\u001b[0m\n\u001b[1;32m----> 8\u001b[1;33m         \u001b[0mimage_array\u001b[0m\u001b[1;33m=\u001b[0m \u001b[0mcv2\u001b[0m\u001b[1;33m.\u001b[0m\u001b[0mimread\u001b[0m\u001b[1;33m(\u001b[0m\u001b[0mimage_path\u001b[0m\u001b[1;33m)\u001b[0m\u001b[1;33m\u001b[0m\u001b[1;33m\u001b[0m\u001b[0m\n\u001b[0m\u001b[0;32m      9\u001b[0m         \u001b[0mimage_array\u001b[0m\u001b[1;33m=\u001b[0m \u001b[0mcv2\u001b[0m\u001b[1;33m.\u001b[0m\u001b[0mresize\u001b[0m\u001b[1;33m(\u001b[0m\u001b[0mimage_array\u001b[0m \u001b[1;33m,\u001b[0m \u001b[1;33m(\u001b[0m\u001b[0mimage_size\u001b[0m \u001b[1;33m,\u001b[0m\u001b[0mimage_size\u001b[0m \u001b[1;33m)\u001b[0m\u001b[1;33m)\u001b[0m\u001b[1;33m\u001b[0m\u001b[1;33m\u001b[0m\u001b[0m\n\u001b[0;32m     10\u001b[0m         \u001b[0minput_image\u001b[0m\u001b[1;33m.\u001b[0m\u001b[0mappend\u001b[0m\u001b[1;33m(\u001b[0m\u001b[1;33m[\u001b[0m\u001b[0mimage_array\u001b[0m \u001b[1;33m,\u001b[0m\u001b[0mlabel\u001b[0m\u001b[1;33m]\u001b[0m\u001b[1;33m)\u001b[0m\u001b[1;33m\u001b[0m\u001b[1;33m\u001b[0m\u001b[0m\n",
      "\u001b[1;31mKeyboardInterrupt\u001b[0m: "
     ]
    }
   ],
   "source": [
    "image_size=200\n",
    "input_image =[]\n",
    "for i in cate:\n",
    "    folders =os.path.join(path2 , i)\n",
    "    label= cate.index(i) \n",
    "    for image in os.listdir(folders):\n",
    "        image_path= os.path.join(folders ,image)\n",
    "        image_array= cv2.imread(image_path)\n",
    "        image_array= cv2.resize(image_array , (image_size ,image_size ))\n",
    "        input_image.append([image_array ,label])"
   ]
  },
  {
   "cell_type": "code",
   "execution_count": null,
   "id": "3df4040a",
   "metadata": {},
   "outputs": [],
   "source": [
    "len(input_image)"
   ]
  }
 ],
 "metadata": {
  "kernelspec": {
   "display_name": "Python 3",
   "language": "python",
   "name": "python3"
  },
  "language_info": {
   "codemirror_mode": {
    "name": "ipython",
    "version": 3
   },
   "file_extension": ".py",
   "mimetype": "text/x-python",
   "name": "python",
   "nbconvert_exporter": "python",
   "pygments_lexer": "ipython3",
   "version": "3.8.8"
  }
 },
 "nbformat": 4,
 "nbformat_minor": 5
}
